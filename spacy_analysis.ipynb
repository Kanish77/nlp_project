{
  "nbformat": 4,
  "nbformat_minor": 0,
  "metadata": {
    "colab": {
      "provenance": []
    },
    "kernelspec": {
      "name": "python3",
      "display_name": "Python 3"
    },
    "language_info": {
      "name": "python"
    }
  },
  "cells": [
    {
      "cell_type": "code",
      "source": [
        "import spacy\n",
        "from spacy import displacy\n",
        "import pandas as pd\n",
        "import json\n",
        "import numpy as np\n",
        "import itertools\n",
        "from collections import Counter\n",
        "import matplotlib.pyplot as plt"
      ],
      "metadata": {
        "id": "rx8iGBtvO-pt"
      },
      "execution_count": null,
      "outputs": []
    },
    {
      "cell_type": "code",
      "source": [
        "nlp = spacy.load(\"en_core_web_sm\")"
      ],
      "metadata": {
        "id": "RoGQYJC3RtpM"
      },
      "execution_count": null,
      "outputs": []
    },
    {
      "cell_type": "code",
      "source": [
        "mistral = pd.read_csv('/content/mistral_scores_sorted.csv')\n",
        "user_prompts = mistral['user_prompt'][:30].tolist()"
      ],
      "metadata": {
        "id": "spqvDYK0OYaw"
      },
      "execution_count": null,
      "outputs": []
    },
    {
      "cell_type": "code",
      "source": [
        "def get_tags(prompts : list):\n",
        "  tags = []\n",
        "  for prompt in prompts:\n",
        "    doc = nlp(prompt)\n",
        "    for token in doc:\n",
        "      tags.append({'token': token.text, 'pos': token.pos_, 'tag' : token.tag_})\n",
        "\n",
        "  return tags\n"
      ],
      "metadata": {
        "id": "ZEqKrtvVP72-"
      },
      "execution_count": null,
      "outputs": []
    },
    {
      "cell_type": "code",
      "source": [
        "tags = get_tags(user_prompts)"
      ],
      "metadata": {
        "id": "I-5h9oTYUvxu"
      },
      "execution_count": null,
      "outputs": []
    },
    {
      "cell_type": "code",
      "source": [
        "def get_entities(prompts : list):\n",
        "  entities = []\n",
        "  for prompt in prompts:\n",
        "    doc = nlp(prompt)\n",
        "    for ent in doc.ents:\n",
        "      entities.append({'entity': ent.text, 'label': ent.label_ })\n",
        "\n",
        "  return entities"
      ],
      "metadata": {
        "id": "--7whToRU5VM"
      },
      "execution_count": null,
      "outputs": []
    },
    {
      "cell_type": "code",
      "source": [
        "entities = get_entities(user_prompts)"
      ],
      "metadata": {
        "id": "WRT2VoHBWwM_"
      },
      "execution_count": null,
      "outputs": []
    },
    {
      "cell_type": "code",
      "source": [
        "with open('/content/results_refined.json', 'r') as j:\n",
        "    f = json.load(j)"
      ],
      "metadata": {
        "id": "hmtyNaAPkfUA"
      },
      "execution_count": null,
      "outputs": []
    },
    {
      "cell_type": "code",
      "source": [
        "results = {}\n",
        "for key in f.keys():\n",
        "  sum = np.array(f[key])[:,1].astype('float').sum()\n",
        "  results[key[1:]] = sum\n"
      ],
      "metadata": {
        "id": "vOOZIas2myoG"
      },
      "execution_count": null,
      "outputs": []
    },
    {
      "cell_type": "code",
      "source": [
        "input_tokens = dict(sorted(results.items(), key=lambda x: x[1], reverse=True))"
      ],
      "metadata": {
        "id": "9OkQaEQxwHdk"
      },
      "execution_count": null,
      "outputs": []
    },
    {
      "cell_type": "code",
      "source": [
        "results_sorted = pd.DataFrame.from_dict(input_tokens, columns = ['Importance'], orient = 'index')"
      ],
      "metadata": {
        "id": "P9y6Yj9pMlcr"
      },
      "execution_count": null,
      "outputs": []
    },
    {
      "cell_type": "code",
      "source": [
        "results_sorted.to_csv(\"/content/input_tokens_sorted.csv\")"
      ],
      "metadata": {
        "id": "rEDQK9DfNTVY"
      },
      "execution_count": null,
      "outputs": []
    },
    {
      "cell_type": "code",
      "source": [
        "analysis = {}\n",
        "count = 0\n",
        "for key in input_tokens.keys():\n",
        "  for tag in tags:\n",
        "    if key == tag['token']:\n",
        "      if analysis.get(key) == None:\n",
        "        analysis[key] = {'pos' : [tag['pos']], 'tag' : [tag['tag']] , 'importance' : [input_tokens[key]]}\n",
        "      else:\n",
        "        analysis[key]['pos'].append(tag['pos'])\n",
        "        analysis[key]['tag'].append(tag['tag'])\n",
        "        analysis[key]['importance'].append(input_tokens[key])\n"
      ],
      "metadata": {
        "collapsed": true,
        "id": "QDuacrakytAU"
      },
      "execution_count": null,
      "outputs": []
    },
    {
      "cell_type": "code",
      "source": [
        "pos_tag = pd.DataFrame.from_dict(analysis, columns = ['pos', 'tag', 'importance'], orient = 'index')"
      ],
      "metadata": {
        "id": "MCl6Tx8YFYiS"
      },
      "execution_count": null,
      "outputs": []
    },
    {
      "cell_type": "code",
      "source": [
        "def get_unique(l : list):\n",
        "  return list(set(l))"
      ],
      "metadata": {
        "id": "HBsyEin7It8z"
      },
      "execution_count": null,
      "outputs": []
    },
    {
      "cell_type": "code",
      "source": [
        "def fix_decimals(num):\n",
        "  return \"{{:.{}f}}\".format(3).format(num[0])"
      ],
      "metadata": {
        "id": "S05fHNHAW76Z"
      },
      "execution_count": null,
      "outputs": []
    },
    {
      "cell_type": "code",
      "source": [
        "pos_tag['pos'] = pos_tag['pos'].apply(get_unique)\n",
        "pos_tag['tag'] = pos_tag['tag'].apply(get_unique)\n",
        "pos_tag['importance'] = pos_tag['importance'].apply(get_unique)\n",
        "pos_tag['importance'] = pos_tag['importance'].apply(fix_decimals)"
      ],
      "metadata": {
        "id": "qLOP7vnmHX1t"
      },
      "execution_count": null,
      "outputs": []
    },
    {
      "cell_type": "code",
      "source": [
        "pos_tag.to_csv(\"/content/pos_tag_analysis.csv\")"
      ],
      "metadata": {
        "id": "oPmNVXmzKeSX"
      },
      "execution_count": null,
      "outputs": []
    },
    {
      "cell_type": "code",
      "source": [
        "analysis2 = {}\n",
        "for key in input_tokens.keys():\n",
        "  for ent in entities:\n",
        "    if key == ent['entity']:\n",
        "      if analysis2.get(key) == None:\n",
        "        analysis2[key] = {'label' : [ent['label']]}\n",
        "      else:\n",
        "        analysis2[key]['label'].append(ent['label'])"
      ],
      "metadata": {
        "id": "ArfIJs2_DqrR"
      },
      "execution_count": null,
      "outputs": []
    },
    {
      "cell_type": "code",
      "source": [
        "ner = pd.DataFrame.from_dict(analysis2, columns = ['label'], orient = 'index')"
      ],
      "metadata": {
        "id": "7dqFr5VVKDNW"
      },
      "execution_count": null,
      "outputs": []
    },
    {
      "cell_type": "code",
      "source": [
        "l = pos_tag['pos'][:99].tolist()\n",
        "pos = [x for xs in l for x in xs]\n",
        "keys = Counter(pos).keys() # equals to list(set(words))\n",
        "values = Counter(pos).values() # counts the elements' frequency\n",
        "\n"
      ],
      "metadata": {
        "collapsed": true,
        "id": "YAy27gwB7Nhi"
      },
      "execution_count": null,
      "outputs": []
    },
    {
      "cell_type": "code",
      "source": [
        "\n",
        "plt.bar(list(range(0,15)),values, label= keys)\n",
        "plt.xticks(list(range(0,15)),list(keys) , rotation=45, ha='center')\n",
        "plt.ylabel('PoS Tag Count')\n"
      ],
      "metadata": {
        "colab": {
          "base_uri": "https://localhost:8080/",
          "height": 476
        },
        "id": "udTpACky-tDD",
        "outputId": "4941c2c7-2f28-49f8-9b91-b09f97979fde"
      },
      "execution_count": null,
      "outputs": [
        {
          "output_type": "execute_result",
          "data": {
            "text/plain": [
              "Text(0, 0.5, 'PoS Tag Count')"
            ]
          },
          "metadata": {},
          "execution_count": 28
        },
        {
          "output_type": "display_data",
          "data": {
            "text/plain": [
              "<Figure size 640x480 with 1 Axes>"
            ],
            "image/png": "[encoded data removed]"
          },
          "metadata": {}
        }
      ]
    }
  ]
}